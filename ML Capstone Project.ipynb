{
 "cells": [
  {
   "cell_type": "code",
   "execution_count": 1,
   "id": "8a71bdbc",
   "metadata": {},
   "outputs": [],
   "source": [
    "import pandas as pd\n",
    "import numpy as np\n",
    "import matplotlib.pyplot as plt\n",
    "import seaborn as sns"
   ]
  },
  {
   "cell_type": "code",
   "execution_count": 238,
   "id": "d693e8cd",
   "metadata": {},
   "outputs": [
    {
     "data": {
      "text/html": [
       "<div>\n",
       "<style scoped>\n",
       "    .dataframe tbody tr th:only-of-type {\n",
       "        vertical-align: middle;\n",
       "    }\n",
       "\n",
       "    .dataframe tbody tr th {\n",
       "        vertical-align: top;\n",
       "    }\n",
       "\n",
       "    .dataframe thead th {\n",
       "        text-align: right;\n",
       "    }\n",
       "</style>\n",
       "<table border=\"1\" class=\"dataframe\">\n",
       "  <thead>\n",
       "    <tr style=\"text-align: right;\">\n",
       "      <th></th>\n",
       "      <th>id</th>\n",
       "      <th>user_id</th>\n",
       "      <th>vehicle_model_id</th>\n",
       "      <th>package_id</th>\n",
       "      <th>travel_type_id</th>\n",
       "      <th>from_area_id</th>\n",
       "      <th>to_area_id</th>\n",
       "      <th>from_city_id</th>\n",
       "      <th>to_city_id</th>\n",
       "      <th>from_date</th>\n",
       "      <th>to_date</th>\n",
       "      <th>online_booking</th>\n",
       "      <th>mobile_site_booking</th>\n",
       "      <th>booking_created</th>\n",
       "      <th>from_lat</th>\n",
       "      <th>from_long</th>\n",
       "      <th>to_lat</th>\n",
       "      <th>to_long</th>\n",
       "      <th>Car_Cancellation</th>\n",
       "    </tr>\n",
       "  </thead>\n",
       "  <tbody>\n",
       "    <tr>\n",
       "      <th>0</th>\n",
       "      <td>132512</td>\n",
       "      <td>22177</td>\n",
       "      <td>28</td>\n",
       "      <td>NaN</td>\n",
       "      <td>2</td>\n",
       "      <td>83.0</td>\n",
       "      <td>448.0</td>\n",
       "      <td>NaN</td>\n",
       "      <td>NaN</td>\n",
       "      <td>01-01-2013 02:00</td>\n",
       "      <td>NaN</td>\n",
       "      <td>0</td>\n",
       "      <td>0</td>\n",
       "      <td>01-01-2013 01:39</td>\n",
       "      <td>12.924150</td>\n",
       "      <td>77.672290</td>\n",
       "      <td>12.927320</td>\n",
       "      <td>77.635750</td>\n",
       "      <td>0</td>\n",
       "    </tr>\n",
       "    <tr>\n",
       "      <th>1</th>\n",
       "      <td>132513</td>\n",
       "      <td>21413</td>\n",
       "      <td>12</td>\n",
       "      <td>NaN</td>\n",
       "      <td>2</td>\n",
       "      <td>1010.0</td>\n",
       "      <td>540.0</td>\n",
       "      <td>NaN</td>\n",
       "      <td>NaN</td>\n",
       "      <td>01-01-2013 09:00</td>\n",
       "      <td>NaN</td>\n",
       "      <td>0</td>\n",
       "      <td>0</td>\n",
       "      <td>01-01-2013 02:25</td>\n",
       "      <td>12.966910</td>\n",
       "      <td>77.749350</td>\n",
       "      <td>12.927680</td>\n",
       "      <td>77.626640</td>\n",
       "      <td>0</td>\n",
       "    </tr>\n",
       "    <tr>\n",
       "      <th>2</th>\n",
       "      <td>132514</td>\n",
       "      <td>22178</td>\n",
       "      <td>12</td>\n",
       "      <td>NaN</td>\n",
       "      <td>2</td>\n",
       "      <td>1301.0</td>\n",
       "      <td>1034.0</td>\n",
       "      <td>NaN</td>\n",
       "      <td>NaN</td>\n",
       "      <td>01-01-2013 03:30</td>\n",
       "      <td>NaN</td>\n",
       "      <td>0</td>\n",
       "      <td>0</td>\n",
       "      <td>01-01-2013 03:08</td>\n",
       "      <td>12.937222</td>\n",
       "      <td>77.626915</td>\n",
       "      <td>13.047926</td>\n",
       "      <td>77.597766</td>\n",
       "      <td>0</td>\n",
       "    </tr>\n",
       "    <tr>\n",
       "      <th>3</th>\n",
       "      <td>132515</td>\n",
       "      <td>13034</td>\n",
       "      <td>12</td>\n",
       "      <td>NaN</td>\n",
       "      <td>2</td>\n",
       "      <td>768.0</td>\n",
       "      <td>398.0</td>\n",
       "      <td>NaN</td>\n",
       "      <td>NaN</td>\n",
       "      <td>01-01-2013 05:45</td>\n",
       "      <td>NaN</td>\n",
       "      <td>0</td>\n",
       "      <td>0</td>\n",
       "      <td>01-01-2013 04:39</td>\n",
       "      <td>12.989990</td>\n",
       "      <td>77.553320</td>\n",
       "      <td>12.971430</td>\n",
       "      <td>77.639140</td>\n",
       "      <td>0</td>\n",
       "    </tr>\n",
       "    <tr>\n",
       "      <th>4</th>\n",
       "      <td>132517</td>\n",
       "      <td>22180</td>\n",
       "      <td>12</td>\n",
       "      <td>NaN</td>\n",
       "      <td>2</td>\n",
       "      <td>1365.0</td>\n",
       "      <td>849.0</td>\n",
       "      <td>NaN</td>\n",
       "      <td>NaN</td>\n",
       "      <td>01-01-2013 09:00</td>\n",
       "      <td>NaN</td>\n",
       "      <td>0</td>\n",
       "      <td>0</td>\n",
       "      <td>01-01-2013 07:53</td>\n",
       "      <td>12.845653</td>\n",
       "      <td>77.677925</td>\n",
       "      <td>12.954340</td>\n",
       "      <td>77.600720</td>\n",
       "      <td>0</td>\n",
       "    </tr>\n",
       "  </tbody>\n",
       "</table>\n",
       "</div>"
      ],
      "text/plain": [
       "       id  user_id  vehicle_model_id  package_id  travel_type_id  \\\n",
       "0  132512    22177                28         NaN               2   \n",
       "1  132513    21413                12         NaN               2   \n",
       "2  132514    22178                12         NaN               2   \n",
       "3  132515    13034                12         NaN               2   \n",
       "4  132517    22180                12         NaN               2   \n",
       "\n",
       "   from_area_id  to_area_id  from_city_id  to_city_id         from_date  \\\n",
       "0          83.0       448.0           NaN         NaN  01-01-2013 02:00   \n",
       "1        1010.0       540.0           NaN         NaN  01-01-2013 09:00   \n",
       "2        1301.0      1034.0           NaN         NaN  01-01-2013 03:30   \n",
       "3         768.0       398.0           NaN         NaN  01-01-2013 05:45   \n",
       "4        1365.0       849.0           NaN         NaN  01-01-2013 09:00   \n",
       "\n",
       "   to_date  online_booking  mobile_site_booking   booking_created   from_lat  \\\n",
       "0      NaN               0                    0  01-01-2013 01:39  12.924150   \n",
       "1      NaN               0                    0  01-01-2013 02:25  12.966910   \n",
       "2      NaN               0                    0  01-01-2013 03:08  12.937222   \n",
       "3      NaN               0                    0  01-01-2013 04:39  12.989990   \n",
       "4      NaN               0                    0  01-01-2013 07:53  12.845653   \n",
       "\n",
       "   from_long     to_lat    to_long  Car_Cancellation  \n",
       "0  77.672290  12.927320  77.635750                 0  \n",
       "1  77.749350  12.927680  77.626640                 0  \n",
       "2  77.626915  13.047926  77.597766                 0  \n",
       "3  77.553320  12.971430  77.639140                 0  \n",
       "4  77.677925  12.954340  77.600720                 0  "
      ]
     },
     "execution_count": 238,
     "metadata": {},
     "output_type": "execute_result"
    }
   ],
   "source": [
    "cab = pd.read_csv(\"YourCabs.csv\")\n",
    "cab.head()"
   ]
  },
  {
   "cell_type": "code",
   "execution_count": 239,
   "id": "20768122",
   "metadata": {},
   "outputs": [
    {
     "data": {
      "text/plain": [
       "(43431, 19)"
      ]
     },
     "execution_count": 239,
     "metadata": {},
     "output_type": "execute_result"
    }
   ],
   "source": [
    "cab.shape"
   ]
  },
  {
   "cell_type": "code",
   "execution_count": 240,
   "id": "8a788faa",
   "metadata": {},
   "outputs": [
    {
     "data": {
      "text/plain": [
       "id                         0\n",
       "user_id                    0\n",
       "vehicle_model_id           0\n",
       "package_id             35881\n",
       "travel_type_id             0\n",
       "from_area_id              88\n",
       "to_area_id              9138\n",
       "from_city_id           27086\n",
       "to_city_id             41843\n",
       "from_date                  0\n",
       "to_date                17890\n",
       "online_booking             0\n",
       "mobile_site_booking        0\n",
       "booking_created            0\n",
       "from_lat                  93\n",
       "from_long                 93\n",
       "to_lat                  9138\n",
       "to_long                 9138\n",
       "Car_Cancellation           0\n",
       "dtype: int64"
      ]
     },
     "execution_count": 240,
     "metadata": {},
     "output_type": "execute_result"
    }
   ],
   "source": [
    "cab.isna().sum()"
   ]
  },
  {
   "cell_type": "markdown",
   "id": "a16fe14b",
   "metadata": {},
   "source": [
    "### Checking the % of the column that is NA and then removing it if the % is too high"
   ]
  },
  {
   "cell_type": "code",
   "execution_count": 241,
   "id": "860e620a",
   "metadata": {},
   "outputs": [
    {
     "data": {
      "text/plain": [
       "96.34362552094126"
      ]
     },
     "execution_count": 241,
     "metadata": {},
     "output_type": "execute_result"
    }
   ],
   "source": [
    "cab.to_city_id.isna().sum() * 100 / cab.shape[0]"
   ]
  },
  {
   "cell_type": "code",
   "execution_count": 242,
   "id": "1be7d9f7",
   "metadata": {},
   "outputs": [
    {
     "data": {
      "text/plain": [
       "62.365591397849464"
      ]
     },
     "execution_count": 242,
     "metadata": {},
     "output_type": "execute_result"
    }
   ],
   "source": [
    "cab.from_city_id.isna().sum() * 100 / cab.shape[0]"
   ]
  },
  {
   "cell_type": "code",
   "execution_count": 243,
   "id": "39aa9d72",
   "metadata": {},
   "outputs": [
    {
     "data": {
      "text/plain": [
       "82.61610370472704"
      ]
     },
     "execution_count": 243,
     "metadata": {},
     "output_type": "execute_result"
    }
   ],
   "source": [
    "cab.package_id.isna().sum() * 100 / cab.shape[0]"
   ]
  },
  {
   "cell_type": "code",
   "execution_count": 244,
   "id": "e234d2fb",
   "metadata": {},
   "outputs": [
    {
     "data": {
      "text/plain": [
       "41.19177545992494"
      ]
     },
     "execution_count": 244,
     "metadata": {},
     "output_type": "execute_result"
    }
   ],
   "source": [
    "cab.to_date.isna().sum() * 100 / cab.shape[0]"
   ]
  },
  {
   "cell_type": "code",
   "execution_count": 245,
   "id": "0cfa5197",
   "metadata": {},
   "outputs": [],
   "source": [
    "cab.drop([\"to_city_id\",\"from_city_id\", \"package_id\",\"to_date\"],axis=1, inplace = True)"
   ]
  },
  {
   "cell_type": "code",
   "execution_count": 246,
   "id": "4840e29f",
   "metadata": {},
   "outputs": [
    {
     "data": {
      "text/plain": [
       "(43431, 13)"
      ]
     },
     "execution_count": 246,
     "metadata": {},
     "output_type": "execute_result"
    }
   ],
   "source": [
    "# dropping some other non required columns\n",
    "\n",
    "cab.drop([\"id\", \"user_id\"], axis = 1, inplace = True)\n",
    "\n",
    "cab.shape"
   ]
  },
  {
   "cell_type": "code",
   "execution_count": 247,
   "id": "cdb5afdd",
   "metadata": {},
   "outputs": [
    {
     "data": {
      "text/plain": [
       "12    31859\n",
       "85     2407\n",
       "89     2391\n",
       "65     1912\n",
       "28     1702\n",
       "Name: vehicle_model_id, dtype: int64"
      ]
     },
     "execution_count": 247,
     "metadata": {},
     "output_type": "execute_result"
    }
   ],
   "source": [
    "cab.vehicle_model_id.value_counts().head()"
   ]
  },
  {
   "cell_type": "code",
   "execution_count": 248,
   "id": "c4155fae",
   "metadata": {},
   "outputs": [
    {
     "data": {
      "text/plain": [
       "0.7335543736041077"
      ]
     },
     "execution_count": 248,
     "metadata": {},
     "output_type": "execute_result"
    }
   ],
   "source": [
    "31859/cab.shape[0]"
   ]
  },
  {
   "cell_type": "code",
   "execution_count": 249,
   "id": "8337ce2d",
   "metadata": {},
   "outputs": [
    {
     "data": {
      "text/plain": [
       "(43431, 12)"
      ]
     },
     "execution_count": 249,
     "metadata": {},
     "output_type": "execute_result"
    }
   ],
   "source": [
    "# Dropping this as 73% of the data belongs to vehicle ID 12\n",
    "\n",
    "cab.drop(\"vehicle_model_id\", axis = 1, inplace = True)\n",
    "\n",
    "cab.shape"
   ]
  },
  {
   "cell_type": "markdown",
   "id": "d5522638",
   "metadata": {},
   "source": [
    "### Checking other NA values"
   ]
  },
  {
   "cell_type": "code",
   "execution_count": 250,
   "id": "70f7d5ba",
   "metadata": {},
   "outputs": [
    {
     "data": {
      "text/plain": [
       "travel_type_id            0\n",
       "from_area_id             88\n",
       "to_area_id             9138\n",
       "from_date                 0\n",
       "online_booking            0\n",
       "mobile_site_booking       0\n",
       "booking_created           0\n",
       "from_lat                 93\n",
       "from_long                93\n",
       "to_lat                 9138\n",
       "to_long                9138\n",
       "Car_Cancellation          0\n",
       "dtype: int64"
      ]
     },
     "execution_count": 250,
     "metadata": {},
     "output_type": "execute_result"
    }
   ],
   "source": [
    "cab.isna().sum()"
   ]
  },
  {
   "cell_type": "markdown",
   "id": "1a7d5673",
   "metadata": {},
   "source": [
    "### Filling NA values"
   ]
  },
  {
   "cell_type": "code",
   "execution_count": 251,
   "id": "63af9f45",
   "metadata": {},
   "outputs": [],
   "source": [
    "cab.from_lat.fillna(cab.from_lat.median(), inplace = True)\n",
    "cab.from_long.fillna(cab.from_long.median(), inplace = True)\n",
    "cab.to_lat.fillna(cab.to_lat.median(), inplace = True)\n",
    "cab.to_long.fillna(cab.to_long.median(), inplace = True)"
   ]
  },
  {
   "cell_type": "code",
   "execution_count": 252,
   "id": "192e9c09",
   "metadata": {},
   "outputs": [],
   "source": [
    "cab.from_area_id.fillna(cab.from_area_id.median(), inplace = True)\n",
    "cab.to_area_id.fillna(cab.to_area_id.median(), inplace = True)"
   ]
  },
  {
   "cell_type": "code",
   "execution_count": 253,
   "id": "37e158d6",
   "metadata": {},
   "outputs": [
    {
     "data": {
      "text/plain": [
       "travel_type_id         0\n",
       "from_area_id           0\n",
       "to_area_id             0\n",
       "from_date              0\n",
       "online_booking         0\n",
       "mobile_site_booking    0\n",
       "booking_created        0\n",
       "from_lat               0\n",
       "from_long              0\n",
       "to_lat                 0\n",
       "to_long                0\n",
       "Car_Cancellation       0\n",
       "dtype: int64"
      ]
     },
     "execution_count": 253,
     "metadata": {},
     "output_type": "execute_result"
    }
   ],
   "source": [
    "cab.isna().sum()"
   ]
  },
  {
   "cell_type": "markdown",
   "id": "332be573",
   "metadata": {},
   "source": [
    "### Checking for Outliers\n",
    "\n",
    "- There don't seem to be any outliers.\n",
    "- Area code is just a number to identify the area and can vary"
   ]
  },
  {
   "cell_type": "code",
   "execution_count": 254,
   "id": "04f8b330",
   "metadata": {},
   "outputs": [
    {
     "data": {
      "image/png": "[encoded data removed]",
      "text/plain": [
       "<Figure size 640x480 with 1 Axes>"
      ]
     },
     "metadata": {},
     "output_type": "display_data"
    }
   ],
   "source": [
    "cab.boxplot()\n",
    "plt.xticks(rotation = 90)\n",
    "plt.show()"
   ]
  },
  {
   "cell_type": "markdown",
   "id": "1c276228",
   "metadata": {},
   "source": [
    "### Appending Columns"
   ]
  },
  {
   "cell_type": "markdown",
   "id": "0674b187",
   "metadata": {},
   "source": [
    "#### There are 3 unique entries for travel type and we can create a different column for each to get the travel type for each customer\n",
    "\n",
    "#### Label Encoder is not required as the values are not strings"
   ]
  },
  {
   "cell_type": "code",
   "execution_count": 255,
   "id": "4c593df7",
   "metadata": {},
   "outputs": [
    {
     "data": {
      "text/plain": [
       "2    34292\n",
       "3     7550\n",
       "1     1589\n",
       "Name: travel_type_id, dtype: int64"
      ]
     },
     "execution_count": 255,
     "metadata": {},
     "output_type": "execute_result"
    }
   ],
   "source": [
    "cab.travel_type_id.value_counts()"
   ]
  },
  {
   "cell_type": "code",
   "execution_count": 256,
   "id": "2cbd07f0",
   "metadata": {},
   "outputs": [
    {
     "data": {
      "text/html": [
       "<div>\n",
       "<style scoped>\n",
       "    .dataframe tbody tr th:only-of-type {\n",
       "        vertical-align: middle;\n",
       "    }\n",
       "\n",
       "    .dataframe tbody tr th {\n",
       "        vertical-align: top;\n",
       "    }\n",
       "\n",
       "    .dataframe thead th {\n",
       "        text-align: right;\n",
       "    }\n",
       "</style>\n",
       "<table border=\"1\" class=\"dataframe\">\n",
       "  <thead>\n",
       "    <tr style=\"text-align: right;\">\n",
       "      <th></th>\n",
       "      <th>1</th>\n",
       "      <th>2</th>\n",
       "      <th>3</th>\n",
       "    </tr>\n",
       "  </thead>\n",
       "  <tbody>\n",
       "    <tr>\n",
       "      <th>0</th>\n",
       "      <td>0</td>\n",
       "      <td>1</td>\n",
       "      <td>0</td>\n",
       "    </tr>\n",
       "    <tr>\n",
       "      <th>1</th>\n",
       "      <td>0</td>\n",
       "      <td>1</td>\n",
       "      <td>0</td>\n",
       "    </tr>\n",
       "    <tr>\n",
       "      <th>2</th>\n",
       "      <td>0</td>\n",
       "      <td>1</td>\n",
       "      <td>0</td>\n",
       "    </tr>\n",
       "    <tr>\n",
       "      <th>3</th>\n",
       "      <td>0</td>\n",
       "      <td>1</td>\n",
       "      <td>0</td>\n",
       "    </tr>\n",
       "    <tr>\n",
       "      <th>4</th>\n",
       "      <td>0</td>\n",
       "      <td>1</td>\n",
       "      <td>0</td>\n",
       "    </tr>\n",
       "    <tr>\n",
       "      <th>...</th>\n",
       "      <td>...</td>\n",
       "      <td>...</td>\n",
       "      <td>...</td>\n",
       "    </tr>\n",
       "    <tr>\n",
       "      <th>43426</th>\n",
       "      <td>0</td>\n",
       "      <td>1</td>\n",
       "      <td>0</td>\n",
       "    </tr>\n",
       "    <tr>\n",
       "      <th>43427</th>\n",
       "      <td>0</td>\n",
       "      <td>1</td>\n",
       "      <td>0</td>\n",
       "    </tr>\n",
       "    <tr>\n",
       "      <th>43428</th>\n",
       "      <td>0</td>\n",
       "      <td>0</td>\n",
       "      <td>1</td>\n",
       "    </tr>\n",
       "    <tr>\n",
       "      <th>43429</th>\n",
       "      <td>0</td>\n",
       "      <td>1</td>\n",
       "      <td>0</td>\n",
       "    </tr>\n",
       "    <tr>\n",
       "      <th>43430</th>\n",
       "      <td>0</td>\n",
       "      <td>1</td>\n",
       "      <td>0</td>\n",
       "    </tr>\n",
       "  </tbody>\n",
       "</table>\n",
       "<p>43431 rows × 3 columns</p>\n",
       "</div>"
      ],
      "text/plain": [
       "       1  2  3\n",
       "0      0  1  0\n",
       "1      0  1  0\n",
       "2      0  1  0\n",
       "3      0  1  0\n",
       "4      0  1  0\n",
       "...   .. .. ..\n",
       "43426  0  1  0\n",
       "43427  0  1  0\n",
       "43428  0  0  1\n",
       "43429  0  1  0\n",
       "43430  0  1  0\n",
       "\n",
       "[43431 rows x 3 columns]"
      ]
     },
     "execution_count": 256,
     "metadata": {},
     "output_type": "execute_result"
    }
   ],
   "source": [
    "travel_type = pd.get_dummies(cab.travel_type_id)\n",
    "travel_type"
   ]
  },
  {
   "cell_type": "code",
   "execution_count": 257,
   "id": "0a182f01",
   "metadata": {},
   "outputs": [
    {
     "data": {
      "text/html": [
       "<div>\n",
       "<style scoped>\n",
       "    .dataframe tbody tr th:only-of-type {\n",
       "        vertical-align: middle;\n",
       "    }\n",
       "\n",
       "    .dataframe tbody tr th {\n",
       "        vertical-align: top;\n",
       "    }\n",
       "\n",
       "    .dataframe thead th {\n",
       "        text-align: right;\n",
       "    }\n",
       "</style>\n",
       "<table border=\"1\" class=\"dataframe\">\n",
       "  <thead>\n",
       "    <tr style=\"text-align: right;\">\n",
       "      <th></th>\n",
       "      <th>long</th>\n",
       "      <th>short</th>\n",
       "      <th>hourly</th>\n",
       "    </tr>\n",
       "  </thead>\n",
       "  <tbody>\n",
       "    <tr>\n",
       "      <th>0</th>\n",
       "      <td>0</td>\n",
       "      <td>1</td>\n",
       "      <td>0</td>\n",
       "    </tr>\n",
       "    <tr>\n",
       "      <th>1</th>\n",
       "      <td>0</td>\n",
       "      <td>1</td>\n",
       "      <td>0</td>\n",
       "    </tr>\n",
       "    <tr>\n",
       "      <th>2</th>\n",
       "      <td>0</td>\n",
       "      <td>1</td>\n",
       "      <td>0</td>\n",
       "    </tr>\n",
       "    <tr>\n",
       "      <th>3</th>\n",
       "      <td>0</td>\n",
       "      <td>1</td>\n",
       "      <td>0</td>\n",
       "    </tr>\n",
       "    <tr>\n",
       "      <th>4</th>\n",
       "      <td>0</td>\n",
       "      <td>1</td>\n",
       "      <td>0</td>\n",
       "    </tr>\n",
       "    <tr>\n",
       "      <th>...</th>\n",
       "      <td>...</td>\n",
       "      <td>...</td>\n",
       "      <td>...</td>\n",
       "    </tr>\n",
       "    <tr>\n",
       "      <th>43426</th>\n",
       "      <td>0</td>\n",
       "      <td>1</td>\n",
       "      <td>0</td>\n",
       "    </tr>\n",
       "    <tr>\n",
       "      <th>43427</th>\n",
       "      <td>0</td>\n",
       "      <td>1</td>\n",
       "      <td>0</td>\n",
       "    </tr>\n",
       "    <tr>\n",
       "      <th>43428</th>\n",
       "      <td>0</td>\n",
       "      <td>0</td>\n",
       "      <td>1</td>\n",
       "    </tr>\n",
       "    <tr>\n",
       "      <th>43429</th>\n",
       "      <td>0</td>\n",
       "      <td>1</td>\n",
       "      <td>0</td>\n",
       "    </tr>\n",
       "    <tr>\n",
       "      <th>43430</th>\n",
       "      <td>0</td>\n",
       "      <td>1</td>\n",
       "      <td>0</td>\n",
       "    </tr>\n",
       "  </tbody>\n",
       "</table>\n",
       "<p>43431 rows × 3 columns</p>\n",
       "</div>"
      ],
      "text/plain": [
       "       long  short  hourly\n",
       "0         0      1       0\n",
       "1         0      1       0\n",
       "2         0      1       0\n",
       "3         0      1       0\n",
       "4         0      1       0\n",
       "...     ...    ...     ...\n",
       "43426     0      1       0\n",
       "43427     0      1       0\n",
       "43428     0      0       1\n",
       "43429     0      1       0\n",
       "43430     0      1       0\n",
       "\n",
       "[43431 rows x 3 columns]"
      ]
     },
     "execution_count": 257,
     "metadata": {},
     "output_type": "execute_result"
    }
   ],
   "source": [
    "travel_type.rename(columns={1:\"long\", 2:\"short\", 3:\"hourly\"}, inplace = True)\n",
    "travel_type"
   ]
  },
  {
   "cell_type": "code",
   "execution_count": 258,
   "id": "093893f7",
   "metadata": {},
   "outputs": [],
   "source": [
    "cab = pd.concat([cab, travel_type], axis = 1)\n",
    "cab = cab.drop(\"travel_type_id\", axis = 1)"
   ]
  },
  {
   "cell_type": "code",
   "execution_count": 259,
   "id": "02d5e48f",
   "metadata": {},
   "outputs": [],
   "source": [
    "cab.drop(\"long\", axis = 1, inplace = True)"
   ]
  },
  {
   "cell_type": "code",
   "execution_count": 260,
   "id": "7ecb5751",
   "metadata": {},
   "outputs": [
    {
     "data": {
      "text/html": [
       "<div>\n",
       "<style scoped>\n",
       "    .dataframe tbody tr th:only-of-type {\n",
       "        vertical-align: middle;\n",
       "    }\n",
       "\n",
       "    .dataframe tbody tr th {\n",
       "        vertical-align: top;\n",
       "    }\n",
       "\n",
       "    .dataframe thead th {\n",
       "        text-align: right;\n",
       "    }\n",
       "</style>\n",
       "<table border=\"1\" class=\"dataframe\">\n",
       "  <thead>\n",
       "    <tr style=\"text-align: right;\">\n",
       "      <th></th>\n",
       "      <th>from_area_id</th>\n",
       "      <th>to_area_id</th>\n",
       "      <th>from_date</th>\n",
       "      <th>online_booking</th>\n",
       "      <th>mobile_site_booking</th>\n",
       "      <th>booking_created</th>\n",
       "      <th>from_lat</th>\n",
       "      <th>from_long</th>\n",
       "      <th>to_lat</th>\n",
       "      <th>to_long</th>\n",
       "      <th>Car_Cancellation</th>\n",
       "      <th>short</th>\n",
       "      <th>hourly</th>\n",
       "    </tr>\n",
       "  </thead>\n",
       "  <tbody>\n",
       "    <tr>\n",
       "      <th>0</th>\n",
       "      <td>83.0</td>\n",
       "      <td>448.0</td>\n",
       "      <td>01-01-2013 02:00</td>\n",
       "      <td>0</td>\n",
       "      <td>0</td>\n",
       "      <td>01-01-2013 01:39</td>\n",
       "      <td>12.924150</td>\n",
       "      <td>77.672290</td>\n",
       "      <td>12.927320</td>\n",
       "      <td>77.635750</td>\n",
       "      <td>0</td>\n",
       "      <td>1</td>\n",
       "      <td>0</td>\n",
       "    </tr>\n",
       "    <tr>\n",
       "      <th>1</th>\n",
       "      <td>1010.0</td>\n",
       "      <td>540.0</td>\n",
       "      <td>01-01-2013 09:00</td>\n",
       "      <td>0</td>\n",
       "      <td>0</td>\n",
       "      <td>01-01-2013 02:25</td>\n",
       "      <td>12.966910</td>\n",
       "      <td>77.749350</td>\n",
       "      <td>12.927680</td>\n",
       "      <td>77.626640</td>\n",
       "      <td>0</td>\n",
       "      <td>1</td>\n",
       "      <td>0</td>\n",
       "    </tr>\n",
       "    <tr>\n",
       "      <th>2</th>\n",
       "      <td>1301.0</td>\n",
       "      <td>1034.0</td>\n",
       "      <td>01-01-2013 03:30</td>\n",
       "      <td>0</td>\n",
       "      <td>0</td>\n",
       "      <td>01-01-2013 03:08</td>\n",
       "      <td>12.937222</td>\n",
       "      <td>77.626915</td>\n",
       "      <td>13.047926</td>\n",
       "      <td>77.597766</td>\n",
       "      <td>0</td>\n",
       "      <td>1</td>\n",
       "      <td>0</td>\n",
       "    </tr>\n",
       "    <tr>\n",
       "      <th>3</th>\n",
       "      <td>768.0</td>\n",
       "      <td>398.0</td>\n",
       "      <td>01-01-2013 05:45</td>\n",
       "      <td>0</td>\n",
       "      <td>0</td>\n",
       "      <td>01-01-2013 04:39</td>\n",
       "      <td>12.989990</td>\n",
       "      <td>77.553320</td>\n",
       "      <td>12.971430</td>\n",
       "      <td>77.639140</td>\n",
       "      <td>0</td>\n",
       "      <td>1</td>\n",
       "      <td>0</td>\n",
       "    </tr>\n",
       "    <tr>\n",
       "      <th>4</th>\n",
       "      <td>1365.0</td>\n",
       "      <td>849.0</td>\n",
       "      <td>01-01-2013 09:00</td>\n",
       "      <td>0</td>\n",
       "      <td>0</td>\n",
       "      <td>01-01-2013 07:53</td>\n",
       "      <td>12.845653</td>\n",
       "      <td>77.677925</td>\n",
       "      <td>12.954340</td>\n",
       "      <td>77.600720</td>\n",
       "      <td>0</td>\n",
       "      <td>1</td>\n",
       "      <td>0</td>\n",
       "    </tr>\n",
       "  </tbody>\n",
       "</table>\n",
       "</div>"
      ],
      "text/plain": [
       "   from_area_id  to_area_id         from_date  online_booking  \\\n",
       "0          83.0       448.0  01-01-2013 02:00               0   \n",
       "1        1010.0       540.0  01-01-2013 09:00               0   \n",
       "2        1301.0      1034.0  01-01-2013 03:30               0   \n",
       "3         768.0       398.0  01-01-2013 05:45               0   \n",
       "4        1365.0       849.0  01-01-2013 09:00               0   \n",
       "\n",
       "   mobile_site_booking   booking_created   from_lat  from_long     to_lat  \\\n",
       "0                    0  01-01-2013 01:39  12.924150  77.672290  12.927320   \n",
       "1                    0  01-01-2013 02:25  12.966910  77.749350  12.927680   \n",
       "2                    0  01-01-2013 03:08  12.937222  77.626915  13.047926   \n",
       "3                    0  01-01-2013 04:39  12.989990  77.553320  12.971430   \n",
       "4                    0  01-01-2013 07:53  12.845653  77.677925  12.954340   \n",
       "\n",
       "     to_long  Car_Cancellation  short  hourly  \n",
       "0  77.635750                 0      1       0  \n",
       "1  77.626640                 0      1       0  \n",
       "2  77.597766                 0      1       0  \n",
       "3  77.639140                 0      1       0  \n",
       "4  77.600720                 0      1       0  "
      ]
     },
     "execution_count": 260,
     "metadata": {},
     "output_type": "execute_result"
    }
   ],
   "source": [
    "cab.head()"
   ]
  },
  {
   "cell_type": "markdown",
   "id": "7353fdb1",
   "metadata": {},
   "source": [
    "### It would be easier to see if the cab is cancelled or not based on distance to be covered rather than the longitudes and latitudes information"
   ]
  },
  {
   "cell_type": "code",
   "execution_count": 261,
   "id": "98106459",
   "metadata": {},
   "outputs": [
    {
     "name": "stdout",
     "output_type": "stream",
     "text": [
      "<function calculate_distance at 0x000002408AC69CA0>\n"
     ]
    }
   ],
   "source": [
    "from math import sin, cos, sqrt, atan2, radians\n",
    "R = 6370\n",
    "\n",
    "def calculate_distance_covered(from_lat,from_long,to_lat,to_long):\n",
    "    dlon = from_long - to_long\n",
    "    dlat = from_lat - to_lat\n",
    "    \n",
    "    a = sin(dlat / 2)**2 + cos(from_lat) * cos(to_lat) * sin(dlon / 2)**2\n",
    "    c = 2 * atan2(sqrt(a), sqrt(1-a))\n",
    "    distance = R * c\n",
    "    return distance\n",
    "    \n",
    "    \n",
    "print (calculate_distance_covered)"
   ]
  },
  {
   "cell_type": "code",
   "execution_count": 262,
   "id": "41126660",
   "metadata": {},
   "outputs": [
    {
     "data": {
      "text/plain": [
       "0         218.823289\n",
       "1         767.333718\n",
       "2         725.135666\n",
       "3         514.156403\n",
       "4         833.639597\n",
       "            ...     \n",
       "43426     600.005202\n",
       "43427    1208.630447\n",
       "43428     767.787001\n",
       "43429     257.414166\n",
       "43430    1454.416513\n",
       "Length: 43431, dtype: float64"
      ]
     },
     "execution_count": 262,
     "metadata": {},
     "output_type": "execute_result"
    }
   ],
   "source": [
    "distance_travelled = cab.apply(lambda row: calculate_distance_covered(row['from_lat'],row['from_long'],row['to_lat'],row['to_long']), axis = 1)\n",
    "\n",
    "distance_travelled"
   ]
  },
  {
   "cell_type": "code",
   "execution_count": 263,
   "id": "ac7d01bd",
   "metadata": {},
   "outputs": [
    {
     "data": {
      "text/html": [
       "<div>\n",
       "<style scoped>\n",
       "    .dataframe tbody tr th:only-of-type {\n",
       "        vertical-align: middle;\n",
       "    }\n",
       "\n",
       "    .dataframe tbody tr th {\n",
       "        vertical-align: top;\n",
       "    }\n",
       "\n",
       "    .dataframe thead th {\n",
       "        text-align: right;\n",
       "    }\n",
       "</style>\n",
       "<table border=\"1\" class=\"dataframe\">\n",
       "  <thead>\n",
       "    <tr style=\"text-align: right;\">\n",
       "      <th></th>\n",
       "      <th>from_area_id</th>\n",
       "      <th>to_area_id</th>\n",
       "      <th>from_date</th>\n",
       "      <th>online_booking</th>\n",
       "      <th>mobile_site_booking</th>\n",
       "      <th>booking_created</th>\n",
       "      <th>from_lat</th>\n",
       "      <th>from_long</th>\n",
       "      <th>to_lat</th>\n",
       "      <th>to_long</th>\n",
       "      <th>Car_Cancellation</th>\n",
       "      <th>short</th>\n",
       "      <th>hourly</th>\n",
       "      <th>distance</th>\n",
       "    </tr>\n",
       "  </thead>\n",
       "  <tbody>\n",
       "    <tr>\n",
       "      <th>0</th>\n",
       "      <td>83.0</td>\n",
       "      <td>448.0</td>\n",
       "      <td>01-01-2013 02:00</td>\n",
       "      <td>0</td>\n",
       "      <td>0</td>\n",
       "      <td>01-01-2013 01:39</td>\n",
       "      <td>12.924150</td>\n",
       "      <td>77.672290</td>\n",
       "      <td>12.927320</td>\n",
       "      <td>77.635750</td>\n",
       "      <td>0</td>\n",
       "      <td>1</td>\n",
       "      <td>0</td>\n",
       "      <td>218.823289</td>\n",
       "    </tr>\n",
       "    <tr>\n",
       "      <th>1</th>\n",
       "      <td>1010.0</td>\n",
       "      <td>540.0</td>\n",
       "      <td>01-01-2013 09:00</td>\n",
       "      <td>0</td>\n",
       "      <td>0</td>\n",
       "      <td>01-01-2013 02:25</td>\n",
       "      <td>12.966910</td>\n",
       "      <td>77.749350</td>\n",
       "      <td>12.927680</td>\n",
       "      <td>77.626640</td>\n",
       "      <td>0</td>\n",
       "      <td>1</td>\n",
       "      <td>0</td>\n",
       "      <td>767.333718</td>\n",
       "    </tr>\n",
       "    <tr>\n",
       "      <th>2</th>\n",
       "      <td>1301.0</td>\n",
       "      <td>1034.0</td>\n",
       "      <td>01-01-2013 03:30</td>\n",
       "      <td>0</td>\n",
       "      <td>0</td>\n",
       "      <td>01-01-2013 03:08</td>\n",
       "      <td>12.937222</td>\n",
       "      <td>77.626915</td>\n",
       "      <td>13.047926</td>\n",
       "      <td>77.597766</td>\n",
       "      <td>0</td>\n",
       "      <td>1</td>\n",
       "      <td>0</td>\n",
       "      <td>725.135666</td>\n",
       "    </tr>\n",
       "    <tr>\n",
       "      <th>3</th>\n",
       "      <td>768.0</td>\n",
       "      <td>398.0</td>\n",
       "      <td>01-01-2013 05:45</td>\n",
       "      <td>0</td>\n",
       "      <td>0</td>\n",
       "      <td>01-01-2013 04:39</td>\n",
       "      <td>12.989990</td>\n",
       "      <td>77.553320</td>\n",
       "      <td>12.971430</td>\n",
       "      <td>77.639140</td>\n",
       "      <td>0</td>\n",
       "      <td>1</td>\n",
       "      <td>0</td>\n",
       "      <td>514.156403</td>\n",
       "    </tr>\n",
       "    <tr>\n",
       "      <th>4</th>\n",
       "      <td>1365.0</td>\n",
       "      <td>849.0</td>\n",
       "      <td>01-01-2013 09:00</td>\n",
       "      <td>0</td>\n",
       "      <td>0</td>\n",
       "      <td>01-01-2013 07:53</td>\n",
       "      <td>12.845653</td>\n",
       "      <td>77.677925</td>\n",
       "      <td>12.954340</td>\n",
       "      <td>77.600720</td>\n",
       "      <td>0</td>\n",
       "      <td>1</td>\n",
       "      <td>0</td>\n",
       "      <td>833.639597</td>\n",
       "    </tr>\n",
       "  </tbody>\n",
       "</table>\n",
       "</div>"
      ],
      "text/plain": [
       "   from_area_id  to_area_id         from_date  online_booking  \\\n",
       "0          83.0       448.0  01-01-2013 02:00               0   \n",
       "1        1010.0       540.0  01-01-2013 09:00               0   \n",
       "2        1301.0      1034.0  01-01-2013 03:30               0   \n",
       "3         768.0       398.0  01-01-2013 05:45               0   \n",
       "4        1365.0       849.0  01-01-2013 09:00               0   \n",
       "\n",
       "   mobile_site_booking   booking_created   from_lat  from_long     to_lat  \\\n",
       "0                    0  01-01-2013 01:39  12.924150  77.672290  12.927320   \n",
       "1                    0  01-01-2013 02:25  12.966910  77.749350  12.927680   \n",
       "2                    0  01-01-2013 03:08  12.937222  77.626915  13.047926   \n",
       "3                    0  01-01-2013 04:39  12.989990  77.553320  12.971430   \n",
       "4                    0  01-01-2013 07:53  12.845653  77.677925  12.954340   \n",
       "\n",
       "     to_long  Car_Cancellation  short  hourly    distance  \n",
       "0  77.635750                 0      1       0  218.823289  \n",
       "1  77.626640                 0      1       0  767.333718  \n",
       "2  77.597766                 0      1       0  725.135666  \n",
       "3  77.639140                 0      1       0  514.156403  \n",
       "4  77.600720                 0      1       0  833.639597  "
      ]
     },
     "execution_count": 263,
     "metadata": {},
     "output_type": "execute_result"
    }
   ],
   "source": [
    "cab = pd.concat([cab,distance_travelled], axis = 1)\n",
    "cab.rename(columns={0:\"distance\"}, inplace = True)\n",
    "cab.head()"
   ]
  },
  {
   "cell_type": "code",
   "execution_count": 264,
   "id": "987bda4b",
   "metadata": {},
   "outputs": [
    {
     "data": {
      "text/html": [
       "<div>\n",
       "<style scoped>\n",
       "    .dataframe tbody tr th:only-of-type {\n",
       "        vertical-align: middle;\n",
       "    }\n",
       "\n",
       "    .dataframe tbody tr th {\n",
       "        vertical-align: top;\n",
       "    }\n",
       "\n",
       "    .dataframe thead th {\n",
       "        text-align: right;\n",
       "    }\n",
       "</style>\n",
       "<table border=\"1\" class=\"dataframe\">\n",
       "  <thead>\n",
       "    <tr style=\"text-align: right;\">\n",
       "      <th></th>\n",
       "      <th>from_area_id</th>\n",
       "      <th>to_area_id</th>\n",
       "      <th>from_date</th>\n",
       "      <th>online_booking</th>\n",
       "      <th>mobile_site_booking</th>\n",
       "      <th>booking_created</th>\n",
       "      <th>Car_Cancellation</th>\n",
       "      <th>short</th>\n",
       "      <th>hourly</th>\n",
       "      <th>distance</th>\n",
       "    </tr>\n",
       "  </thead>\n",
       "  <tbody>\n",
       "    <tr>\n",
       "      <th>0</th>\n",
       "      <td>83.0</td>\n",
       "      <td>448.0</td>\n",
       "      <td>01-01-2013 02:00</td>\n",
       "      <td>0</td>\n",
       "      <td>0</td>\n",
       "      <td>01-01-2013 01:39</td>\n",
       "      <td>0</td>\n",
       "      <td>1</td>\n",
       "      <td>0</td>\n",
       "      <td>218.823289</td>\n",
       "    </tr>\n",
       "    <tr>\n",
       "      <th>1</th>\n",
       "      <td>1010.0</td>\n",
       "      <td>540.0</td>\n",
       "      <td>01-01-2013 09:00</td>\n",
       "      <td>0</td>\n",
       "      <td>0</td>\n",
       "      <td>01-01-2013 02:25</td>\n",
       "      <td>0</td>\n",
       "      <td>1</td>\n",
       "      <td>0</td>\n",
       "      <td>767.333718</td>\n",
       "    </tr>\n",
       "    <tr>\n",
       "      <th>2</th>\n",
       "      <td>1301.0</td>\n",
       "      <td>1034.0</td>\n",
       "      <td>01-01-2013 03:30</td>\n",
       "      <td>0</td>\n",
       "      <td>0</td>\n",
       "      <td>01-01-2013 03:08</td>\n",
       "      <td>0</td>\n",
       "      <td>1</td>\n",
       "      <td>0</td>\n",
       "      <td>725.135666</td>\n",
       "    </tr>\n",
       "    <tr>\n",
       "      <th>3</th>\n",
       "      <td>768.0</td>\n",
       "      <td>398.0</td>\n",
       "      <td>01-01-2013 05:45</td>\n",
       "      <td>0</td>\n",
       "      <td>0</td>\n",
       "      <td>01-01-2013 04:39</td>\n",
       "      <td>0</td>\n",
       "      <td>1</td>\n",
       "      <td>0</td>\n",
       "      <td>514.156403</td>\n",
       "    </tr>\n",
       "    <tr>\n",
       "      <th>4</th>\n",
       "      <td>1365.0</td>\n",
       "      <td>849.0</td>\n",
       "      <td>01-01-2013 09:00</td>\n",
       "      <td>0</td>\n",
       "      <td>0</td>\n",
       "      <td>01-01-2013 07:53</td>\n",
       "      <td>0</td>\n",
       "      <td>1</td>\n",
       "      <td>0</td>\n",
       "      <td>833.639597</td>\n",
       "    </tr>\n",
       "  </tbody>\n",
       "</table>\n",
       "</div>"
      ],
      "text/plain": [
       "   from_area_id  to_area_id         from_date  online_booking  \\\n",
       "0          83.0       448.0  01-01-2013 02:00               0   \n",
       "1        1010.0       540.0  01-01-2013 09:00               0   \n",
       "2        1301.0      1034.0  01-01-2013 03:30               0   \n",
       "3         768.0       398.0  01-01-2013 05:45               0   \n",
       "4        1365.0       849.0  01-01-2013 09:00               0   \n",
       "\n",
       "   mobile_site_booking   booking_created  Car_Cancellation  short  hourly  \\\n",
       "0                    0  01-01-2013 01:39                 0      1       0   \n",
       "1                    0  01-01-2013 02:25                 0      1       0   \n",
       "2                    0  01-01-2013 03:08                 0      1       0   \n",
       "3                    0  01-01-2013 04:39                 0      1       0   \n",
       "4                    0  01-01-2013 07:53                 0      1       0   \n",
       "\n",
       "     distance  \n",
       "0  218.823289  \n",
       "1  767.333718  \n",
       "2  725.135666  \n",
       "3  514.156403  \n",
       "4  833.639597  "
      ]
     },
     "execution_count": 264,
     "metadata": {},
     "output_type": "execute_result"
    }
   ],
   "source": [
    "cab = cab.drop(['from_lat','from_long','to_lat','to_long'],axis=1)\n",
    "cab.head()"
   ]
  },
  {
   "cell_type": "markdown",
   "id": "60f2e883",
   "metadata": {},
   "source": [
    "### The area ID column is no use for us but we want the information as to how many times was a cab cancelled from a particular area"
   ]
  },
  {
   "cell_type": "code",
   "execution_count": 320,
   "id": "67355ea4",
   "metadata": {},
   "outputs": [
    {
     "name": "stderr",
     "output_type": "stream",
     "text": [
      "C:\\Users\\Bhavya\\AppData\\Local\\Temp\\ipykernel_4660\\3181778578.py:3: UserWarning: Pandas doesn't allow columns to be created via a new attribute name - see https://pandas.pydata.org/pandas-docs/stable/indexing.html#attribute-access\n",
      "  cab.area_info = cab.groupby('from_area_id')['Car_Cancellation'].sum()/cab.groupby('from_area_id')['Car_Cancellation'].count()\n"
     ]
    }
   ],
   "source": [
    "# Here we are calculating, how many times was the cab cancelled\n",
    "\n",
    "cab.area_info = cab.groupby('from_area_id')['Car_Cancellation'].sum()/cab.groupby('from_area_id')['Car_Cancellation'].count()"
   ]
  },
  {
   "cell_type": "code",
   "execution_count": 275,
   "id": "c90a8599",
   "metadata": {},
   "outputs": [],
   "source": [
    "# cab.from_area_id.unique()"
   ]
  },
  {
   "cell_type": "code",
   "execution_count": 321,
   "id": "f7a8e999",
   "metadata": {},
   "outputs": [
    {
     "ename": "SyntaxError",
     "evalue": "unexpected EOF while parsing (1760835608.py, line 3)",
     "output_type": "error",
     "traceback": [
      "\u001b[1;36m  File \u001b[1;32m\"C:\\Users\\Bhavya\\AppData\\Local\\Temp\\ipykernel_4660\\1760835608.py\"\u001b[1;36m, line \u001b[1;32m3\u001b[0m\n\u001b[1;33m    (0.75,1) : \"High\"}\u001b[0m\n\u001b[1;37m                                                 ^\u001b[0m\n\u001b[1;31mSyntaxError\u001b[0m\u001b[1;31m:\u001b[0m unexpected EOF while parsing\n"
     ]
    }
   ],
   "source": [
    "cab.area_cancel_info = cab.area_info.replace({(0, 0.4) : \"Low\",\n",
    "                                             (0.4,0.75) : \"Average\",\n",
    "                                             (0.75,1) : \"High\"}                           "
   ]
  },
  {
   "cell_type": "markdown",
   "id": "ed2a89f7",
   "metadata": {},
   "source": [
    "### Data Visualization"
   ]
  },
  {
   "cell_type": "code",
   "execution_count": 292,
   "id": "0e6b4e9b",
   "metadata": {},
   "outputs": [],
   "source": [
    "x = cab[[\"online_booking\", \"mobile_site_booking\", \"short\", \"hourly\", \"distance\"]]\n",
    "y = cab.Car_Cancellation"
   ]
  },
  {
   "cell_type": "code",
   "execution_count": 307,
   "id": "5c9ca9ea",
   "metadata": {},
   "outputs": [],
   "source": [
    "from sklearn.model_selection import train_test_split\n",
    "x_train,x_test,y_train,y_test = train_test_split(x,y,test_size=0.2,random_state=3)"
   ]
  },
  {
   "cell_type": "markdown",
   "id": "35a12f1f",
   "metadata": {},
   "source": [
    "### Logistic Regression\n",
    "\n",
    "- Since this is a classification regression, we are going for logistic regression"
   ]
  },
  {
   "cell_type": "code",
   "execution_count": 308,
   "id": "665b05f1",
   "metadata": {},
   "outputs": [
    {
     "name": "stderr",
     "output_type": "stream",
     "text": [
      "C:\\Users\\Bhavya\\anaconda3\\lib\\site-packages\\sklearn\\linear_model\\_logistic.py:814: ConvergenceWarning: lbfgs failed to converge (status=1):\n",
      "STOP: TOTAL NO. of ITERATIONS REACHED LIMIT.\n",
      "\n",
      "Increase the number of iterations (max_iter) or scale the data as shown in:\n",
      "    https://scikit-learn.org/stable/modules/preprocessing.html\n",
      "Please also refer to the documentation for alternative solver options:\n",
      "    https://scikit-learn.org/stable/modules/linear_model.html#logistic-regression\n",
      "  n_iter_i = _check_optimize_result(\n"
     ]
    },
    {
     "data": {
      "text/plain": [
       "LogisticRegression()"
      ]
     },
     "execution_count": 308,
     "metadata": {},
     "output_type": "execute_result"
    }
   ],
   "source": [
    "from sklearn.linear_model import LogisticRegression\n",
    "reg = LogisticRegression()\n",
    "reg.fit(x_train,y_train)"
   ]
  },
  {
   "cell_type": "code",
   "execution_count": 319,
   "id": "b7553e38",
   "metadata": {},
   "outputs": [
    {
     "data": {
      "text/plain": [
       "array([0, 0, 0, ..., 0, 0, 0], dtype=int64)"
      ]
     },
     "execution_count": 319,
     "metadata": {},
     "output_type": "execute_result"
    }
   ],
   "source": [
    "y_pred=reg.predict(x_test)"
   ]
  },
  {
   "cell_type": "code",
   "execution_count": 322,
   "id": "9c39935f",
   "metadata": {},
   "outputs": [
    {
     "data": {
      "text/plain": [
       "array([[8064,    0],\n",
       "       [ 623,    0]], dtype=int64)"
      ]
     },
     "execution_count": 322,
     "metadata": {},
     "output_type": "execute_result"
    }
   ],
   "source": [
    "from sklearn.metrics import confusion_matrix\n",
    "conf_matrix = confusion_matrix(y_test,y_pred)\n",
    "conf_matrix"
   ]
  },
  {
   "cell_type": "code",
   "execution_count": 325,
   "id": "fbaced47",
   "metadata": {},
   "outputs": [
    {
     "name": "stdout",
     "output_type": "stream",
     "text": [
      "Accuracy:  0.9282836422240129\n",
      "Precision:  0.0\n",
      "Recall:  0.0\n"
     ]
    },
    {
     "name": "stderr",
     "output_type": "stream",
     "text": [
      "C:\\Users\\Bhavya\\anaconda3\\lib\\site-packages\\sklearn\\metrics\\_classification.py:1318: UndefinedMetricWarning: Precision is ill-defined and being set to 0.0 due to no predicted samples. Use `zero_division` parameter to control this behavior.\n",
      "  _warn_prf(average, modifier, msg_start, len(result))\n"
     ]
    }
   ],
   "source": [
    "from sklearn import metrics\n",
    "\n",
    "print(\"Accuracy: \", metrics.accuracy_score(y_test,y_pred))\n",
    "print(\"Precision: \", metrics.precision_score(y_test,y_pred))\n",
    "print(\"Recall: \", metrics.recall_score(y_test,y_pred))"
   ]
  },
  {
   "cell_type": "markdown",
   "id": "78c759f8",
   "metadata": {},
   "source": [
    "#### It can be seen from the conusion matrix that the logistic regression model is a good fit\n",
    "#### There is no FALSE prediction\n",
    "#### Accuracy score is also in the acceptable range of 93% with 0 recall"
   ]
  },
  {
   "cell_type": "code",
   "execution_count": 326,
   "id": "56810f2c",
   "metadata": {},
   "outputs": [
    {
     "name": "stderr",
     "output_type": "stream",
     "text": [
      "C:\\Users\\Bhavya\\anaconda3\\lib\\site-packages\\sklearn\\base.py:450: UserWarning: X does not have valid feature names, but LogisticRegression was fitted with feature names\n",
      "  warnings.warn(\n"
     ]
    },
    {
     "data": {
      "text/plain": [
       "array([0], dtype=int64)"
      ]
     },
     "execution_count": 326,
     "metadata": {},
     "output_type": "execute_result"
    }
   ],
   "source": [
    "#### Above, we are predicting a situation where the booking was made by phone call for a long distance of 250km\n",
    "\n",
    "#### It has been predicted that this booking will be cancelled so the cab company should not take this booking\n",
    "\n",
    "reg.predict([[0,0,0,0,250]])"
   ]
  },
  {
   "cell_type": "markdown",
   "id": "1dfa8f18",
   "metadata": {},
   "source": []
  },
  {
   "cell_type": "markdown",
   "id": "1fb83090",
   "metadata": {},
   "source": [
    "## Decision Tree - GINI"
   ]
  },
  {
   "cell_type": "code",
   "execution_count": 330,
   "id": "06f7d34e",
   "metadata": {},
   "outputs": [],
   "source": [
    "from sklearn.tree import DecisionTreeClassifier"
   ]
  },
  {
   "cell_type": "code",
   "execution_count": 332,
   "id": "c5f71a66",
   "metadata": {},
   "outputs": [
    {
     "name": "stdout",
     "output_type": "stream",
     "text": [
      "Training Score 0.9277860925627447\n",
      "Testing Score 0.9282836422240129\n"
     ]
    }
   ],
   "source": [
    "Depth_2 = DecisionTreeClassifier(random_state=1,max_depth=2)\n",
    "\n",
    "Depth_2.fit(x_train,y_train)\n",
    "\n",
    "Depth_2_score_train = Depth_2.score(x_train,y_train)\n",
    "\n",
    "Depth_2_score_test = Depth_2.score(x_test,y_test)\n",
    "\n",
    "print('Training Score',Depth_2_score_train)\n",
    "print('Testing Score',Depth_2_score_test)"
   ]
  },
  {
   "cell_type": "code",
   "execution_count": 333,
   "id": "ac77df1c",
   "metadata": {},
   "outputs": [
    {
     "name": "stdout",
     "output_type": "stream",
     "text": [
      "Training Score 0.9278436564586692\n",
      "Testing Score 0.9278231840681478\n"
     ]
    }
   ],
   "source": [
    "Depth_4 = DecisionTreeClassifier(random_state=1,max_depth=4)\n",
    "\n",
    "Depth_4.fit(x_train,y_train)\n",
    "\n",
    "Depth_4_score_train = Depth_4.score(x_train,y_train)\n",
    "\n",
    "Depth_4_score_test = Depth_4.score(x_test,y_test)\n",
    "\n",
    "print('Training Score',Depth_4_score_train)\n",
    "print('Testing Score',Depth_4_score_test)"
   ]
  },
  {
   "cell_type": "code",
   "execution_count": 334,
   "id": "1d58a704",
   "metadata": {},
   "outputs": [
    {
     "name": "stdout",
     "output_type": "stream",
     "text": [
      "Training Score 0.9308081970987796\n",
      "Testing Score 0.9278231840681478\n"
     ]
    }
   ],
   "source": [
    "Depth_10 = DecisionTreeClassifier(random_state=1,max_depth=10)\n",
    "\n",
    "Depth_10.fit(x_train,y_train)\n",
    "\n",
    "Depth_10_score_train = Depth_10.score(x_train,y_train)\n",
    "\n",
    "Depth_10_score_test = Depth_10.score(x_test,y_test)\n",
    "\n",
    "print('Training Score',Depth_10_score_train)\n",
    "print('Testing Score',Depth_10_score_test)"
   ]
  },
  {
   "cell_type": "code",
   "execution_count": 335,
   "id": "1dbfb38e",
   "metadata": {},
   "outputs": [
    {
     "name": "stdout",
     "output_type": "stream",
     "text": [
      "Training Score 0.9564241307851715\n",
      "Testing Score 0.9174628755611833\n"
     ]
    }
   ],
   "source": [
    "Depth_40 = DecisionTreeClassifier(random_state=1,max_depth=40)\n",
    "\n",
    "Depth_40.fit(x_train,y_train)\n",
    "\n",
    "Depth_40_score_train = Depth_40.score(x_train,y_train)\n",
    "\n",
    "Depth_40_score_test = Depth_40.score(x_test,y_test)\n",
    "\n",
    "print('Training Score',Depth_40_score_train)\n",
    "print('Testing Score',Depth_40_score_test)"
   ]
  },
  {
   "cell_type": "markdown",
   "id": "63847b98",
   "metadata": {},
   "source": [
    "#### As we increase the tree branched for the DECISION TREE classifier, we can see that the training score is improving but the test score is increasing. But increasing branches might lead to over fitting the data.\n",
    "\n",
    "#### Since there is not much change in score till 10 branches, we can use DEPTH 10 as a good fit with GINI TEST\n"
   ]
  },
  {
   "cell_type": "code",
   "execution_count": 338,
   "id": "03503b23",
   "metadata": {},
   "outputs": [
    {
     "name": "stdout",
     "output_type": "stream",
     "text": [
      "[0]\n",
      "[0]\n",
      "[0]\n",
      "[0]\n"
     ]
    },
    {
     "name": "stderr",
     "output_type": "stream",
     "text": [
      "C:\\Users\\Bhavya\\anaconda3\\lib\\site-packages\\sklearn\\base.py:450: UserWarning: X does not have valid feature names, but DecisionTreeClassifier was fitted with feature names\n",
      "  warnings.warn(\n",
      "C:\\Users\\Bhavya\\anaconda3\\lib\\site-packages\\sklearn\\base.py:450: UserWarning: X does not have valid feature names, but DecisionTreeClassifier was fitted with feature names\n",
      "  warnings.warn(\n",
      "C:\\Users\\Bhavya\\anaconda3\\lib\\site-packages\\sklearn\\base.py:450: UserWarning: X does not have valid feature names, but DecisionTreeClassifier was fitted with feature names\n",
      "  warnings.warn(\n",
      "C:\\Users\\Bhavya\\anaconda3\\lib\\site-packages\\sklearn\\base.py:450: UserWarning: X does not have valid feature names, but DecisionTreeClassifier was fitted with feature names\n",
      "  warnings.warn(\n"
     ]
    }
   ],
   "source": [
    "#### Above, we are predicting a situation where the booking was made by phone call for a long distance of 250km\n",
    "\n",
    "#### It has been predicted that this booking will be cancelled so the cab company should not take this booking\n",
    "\n",
    "### Prediction is same as predicted by logistic regression\n",
    "\n",
    "print(Depth_2.predict([[0,0,0,0,250]]))\n",
    "print(Depth_4.predict([[0,0,0,0,250]]))\n",
    "print(Depth_10.predict([[0,0,0,0,250]]))\n",
    "print(Depth_40.predict([[0,0,0,0,250]]))"
   ]
  },
  {
   "cell_type": "markdown",
   "id": "0b43dfb1",
   "metadata": {},
   "source": [
    "### DESICION TREE - ENTROPY"
   ]
  },
  {
   "cell_type": "code",
   "execution_count": 339,
   "id": "0dbf3f48",
   "metadata": {},
   "outputs": [
    {
     "name": "stdout",
     "output_type": "stream",
     "text": [
      "0.9307218512548929\n",
      "0.9269022677564176\n"
     ]
    }
   ],
   "source": [
    "ent = DecisionTreeClassifier(max_depth=10,criterion='entropy')\n",
    "\n",
    "ent.fit(x_train,y_train)\n",
    "\n",
    "ent_score_train = ent.score(x_train,y_train)\n",
    "print(model_dt_score_train)\n",
    "\n",
    "ent_score_test = ent.score(x_test,y_test)\n",
    "print(model_dt_score_test)"
   ]
  },
  {
   "cell_type": "code",
   "execution_count": 340,
   "id": "8c4bc2c8",
   "metadata": {},
   "outputs": [
    {
     "name": "stderr",
     "output_type": "stream",
     "text": [
      "C:\\Users\\Bhavya\\anaconda3\\lib\\site-packages\\sklearn\\base.py:450: UserWarning: X does not have valid feature names, but DecisionTreeClassifier was fitted with feature names\n",
      "  warnings.warn(\n"
     ]
    },
    {
     "data": {
      "text/plain": [
       "array([0], dtype=int64)"
      ]
     },
     "execution_count": 340,
     "metadata": {},
     "output_type": "execute_result"
    }
   ],
   "source": [
    "ent.predict([[0,0,0,0,250]])"
   ]
  },
  {
   "cell_type": "markdown",
   "id": "76db514c",
   "metadata": {},
   "source": [
    "# It can be seen that the train and test data are a good fit with all the models (logistic regression, desicion tree (gini and entropy)), have a good accuracy score and are predicting the same result for the given situation"
   ]
  },
  {
   "cell_type": "code",
   "execution_count": null,
   "id": "439a2f7e",
   "metadata": {},
   "outputs": [],
   "source": []
  }
 ],
 "metadata": {
  "kernelspec": {
   "display_name": "Python 3 (ipykernel)",
   "language": "python",
   "name": "python3"
  },
  "language_info": {
   "codemirror_mode": {
    "name": "ipython",
    "version": 3
   },
   "file_extension": ".py",
   "mimetype": "text/x-python",
   "name": "python",
   "nbconvert_exporter": "python",
   "pygments_lexer": "ipython3",
   "version": "3.9.13"
  }
 },
 "nbformat": 4,
 "nbformat_minor": 5
}
